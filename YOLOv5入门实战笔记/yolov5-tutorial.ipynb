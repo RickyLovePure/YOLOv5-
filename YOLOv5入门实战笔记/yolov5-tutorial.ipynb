{
 "cells": [
  {
   "cell_type": "markdown",
   "id": "2f6b768d-1116-4f6c-863a-5b2540087f57",
   "metadata": {
    "tags": []
   },
   "source": [
    "## 1. 安装与导入依赖\n",
    "\n",
    "安装PyTorch\n",
    "https://pytorch.org/get-started/locally/"
   ]
  },
  {
   "cell_type": "code",
   "execution_count": null,
   "id": "2dbb93ac-0d85-406b-8a57-6af1f178c86b",
   "metadata": {
    "tags": []
   },
   "outputs": [],
   "source": [
    "!pip3 install torch==1.8.2 torchvision==0.9.2 torchaudio===0.8.2 --extra-index-url https://download.pytorch.org/whl/lts/1.8/cu102"
   ]
  },
  {
   "cell_type": "markdown",
   "id": "46f73a3e-bb80-46e6-98f7-f4495b09f960",
   "metadata": {
    "tags": []
   },
   "source": [
    "克隆YOLOv5仓库"
   ]
  },
  {
   "cell_type": "code",
   "execution_count": null,
   "id": "59bb2795-4647-4eb5-90af-dbbfbfd1a0ec",
   "metadata": {
    "tags": []
   },
   "outputs": [],
   "source": [
    "!git clone https://github.com/ultralytics/yolov5"
   ]
  },
  {
   "cell_type": "markdown",
   "id": "0888a67b-6060-49ed-bdb8-ca7b5cd4e573",
   "metadata": {},
   "source": [
    "安装YOLOv5仓库"
   ]
  },
  {
   "cell_type": "code",
   "execution_count": null,
   "id": "581cd08d-b510-4a27-a501-e830970f3874",
   "metadata": {
    "scrolled": true,
    "tags": []
   },
   "outputs": [],
   "source": [
    "!cd yolov5 & pip install -r requirements.txt"
   ]
  },
  {
   "cell_type": "markdown",
   "id": "8e139fb1-dda0-48ba-b2a8-6797943c6024",
   "metadata": {
    "tags": []
   },
   "source": [
    "导包"
   ]
  },
  {
   "cell_type": "code",
   "execution_count": null,
   "id": "72b2f068-e79a-47d7-91bd-d7a9e24b07ef",
   "metadata": {
    "tags": []
   },
   "outputs": [],
   "source": [
    "import torch\n",
    "from matplotlib import pyplot as plt\n",
    "import numpy as np\n",
    "import cv2"
   ]
  },
  {
   "cell_type": "markdown",
   "id": "fc58f420-213c-416e-b8c2-a148bf3e902a",
   "metadata": {},
   "source": [
    "## 2. 加载YOLOv5模型\n",
    "借助PyTorch https://pytorch.org/hub/ultralytics_yolov5/"
   ]
  },
  {
   "cell_type": "code",
   "execution_count": null,
   "id": "899bf6bd-1e99-4604-be9c-313852f8cc89",
   "metadata": {
    "tags": []
   },
   "outputs": [],
   "source": [
    "model = torch.hub.load('ultralytics/yolov5', 'yolov5s', pretrained=True)"
   ]
  },
  {
   "cell_type": "markdown",
   "id": "b235b635-2047-4cdb-aea8-8738d39aea54",
   "metadata": {},
   "source": [
    "## 3. 使用YOLOv5进行图像物体识别\n",
    "配置图像地址"
   ]
  },
  {
   "cell_type": "code",
   "execution_count": null,
   "id": "582f9153-5a30-4971-b151-b2ea52a4c616",
   "metadata": {},
   "outputs": [],
   "source": [
    "imgs = ['https://raw.githubusercontent.com/ultralytics/yolov5/master/data/images/zidane.jpg']"
   ]
  },
  {
   "cell_type": "markdown",
   "id": "d88f7dad-6bea-4626-9390-ddc0aa6d5d5f",
   "metadata": {},
   "source": [
    "识别并输出结果"
   ]
  },
  {
   "cell_type": "code",
   "execution_count": null,
   "id": "f8cff692-76de-4863-ab43-b4e5e9b07fe0",
   "metadata": {},
   "outputs": [],
   "source": [
    "results = model(imgs)\n",
    "print(results)"
   ]
  },
  {
   "cell_type": "markdown",
   "id": "57cf389d-2dda-4bc3-828d-363f6beaeb20",
   "metadata": {},
   "source": [
    "展示识别图像"
   ]
  },
  {
   "cell_type": "code",
   "execution_count": null,
   "id": "625dba66-b603-4fa8-92bb-36e79b036230",
   "metadata": {},
   "outputs": [],
   "source": [
    "%matplotlib inline\n",
    "plt.imshow(results.render()[0])"
   ]
  },
  {
   "cell_type": "markdown",
   "id": "7b2c7320-d725-47ff-a594-7005bce7b47e",
   "metadata": {},
   "source": [
    "常用属性"
   ]
  },
  {
   "cell_type": "code",
   "execution_count": null,
   "id": "ba304e0d-de01-43af-9be4-5e183ab4a018",
   "metadata": {},
   "outputs": [],
   "source": [
    "results.pandas().xyxy[0]"
   ]
  },
  {
   "cell_type": "markdown",
   "id": "099aee32-069b-4541-b8c2-c3e48460c0d1",
   "metadata": {},
   "source": [
    "## 4. 利用OpenCV实现实时物体识别"
   ]
  },
  {
   "cell_type": "code",
   "execution_count": null,
   "id": "3cee7464-524d-47d6-86d6-5cf94a97af75",
   "metadata": {},
   "outputs": [],
   "source": [
    "cap = cv2.VideoCapture(1)\n",
    "\n",
    "while cap.isOpened():\n",
    "    ret, frame = cap.read()\n",
    "    \n",
    "    results = model(frame)\n",
    "    \n",
    "    cv2.imshow('YOLO', np.squeeze(results.render()))\n",
    "    \n",
    "    if cv2.waitKey(10) & 0xFF == ord('q'):\n",
    "        break\n",
    "cap.release()\n",
    "cv2.destroyAllWindows()"
   ]
  },
  {
   "cell_type": "markdown",
   "id": "a23403fd-cc07-42c0-84aa-ca6c80e74c43",
   "metadata": {},
   "source": [
    "## 5. 训练定制模型\n",
    "导包"
   ]
  },
  {
   "cell_type": "code",
   "execution_count": null,
   "id": "e9a230e7-cafb-422f-81f5-dc772eff4ed5",
   "metadata": {},
   "outputs": [],
   "source": [
    "import uuid\n",
    "import os\n",
    "import time"
   ]
  },
  {
   "cell_type": "markdown",
   "id": "91aade70-87a7-4f5d-8a13-0dac926e1873",
   "metadata": {},
   "source": [
    "参数配置"
   ]
  },
  {
   "cell_type": "code",
   "execution_count": null,
   "id": "4bc68fd8-7438-4160-af1e-13a1cb450e03",
   "metadata": {},
   "outputs": [],
   "source": [
    "IMAGE_PAHT = os.path.join('data', 'images')\n",
    "labels = ['vup', 'vup-glasses-on']\n",
    "num_imgs = 20"
   ]
  },
  {
   "cell_type": "markdown",
   "id": "4b55ea3c-214b-48b9-ad1b-89881b8a3451",
   "metadata": {},
   "source": [
    "采集图像数据集"
   ]
  },
  {
   "cell_type": "code",
   "execution_count": null,
   "id": "7513dfd4-d0ab-4d50-8122-b49b7184125c",
   "metadata": {
    "scrolled": true,
    "tags": []
   },
   "outputs": [],
   "source": [
    "cap = cv2.VideoCapture(2)\n",
    "\n",
    "for label in labels:\n",
    "    print(f'---------\\ncollecting image for {label}\\n----------')\n",
    "    time.sleep(5)\n",
    "    \n",
    "    for i in range(num_imgs):\n",
    "        print(f'collecting {label}.{i + 1}')\n",
    "        \n",
    "        ret, frame = cap.read()\n",
    "        \n",
    "        image_name = os.path.join(IMAGE_PAHT, label + '.' + str(uuid.uuid1()) + '.jpg')\n",
    "        cv2.imwrite(image_name, frame)\n",
    "        cv2.imshow('Data Collecting...', frame)\n",
    "        time.sleep(2)\n",
    "        \n",
    "        if cv2.waitKey(10) & 0xFF == ord('q'):\n",
    "            break\n",
    "\n",
    "cap.release()\n",
    "cv2.destroyAllWindows()"
   ]
  },
  {
   "cell_type": "markdown",
   "id": "40f3aabf-7d09-4c63-a994-93841d29e6be",
   "metadata": {},
   "source": [
    "克隆labelImg"
   ]
  },
  {
   "cell_type": "code",
   "execution_count": null,
   "id": "576eddf6-2653-4574-92e7-118c491f0656",
   "metadata": {},
   "outputs": [],
   "source": [
    "!git clone https://github.com/heartexlabs/labelImg"
   ]
  },
  {
   "cell_type": "markdown",
   "id": "430a106d-0e0f-48a2-aff8-54d399001fa5",
   "metadata": {},
   "source": [
    "安装labelImg依赖并进行配置"
   ]
  },
  {
   "cell_type": "code",
   "execution_count": null,
   "id": "56e2a683-a26e-41e3-8263-52a1ff6eb708",
   "metadata": {
    "tags": []
   },
   "outputs": [],
   "source": [
    "!pip install pyqt5 lxml --upgrade"
   ]
  },
  {
   "cell_type": "code",
   "execution_count": null,
   "id": "aa564cb7-f10b-4772-8ee4-51efac863224",
   "metadata": {},
   "outputs": [],
   "source": [
    "!cd labelImg && pyrcc5 -o libs/resources.py resources.qrc"
   ]
  },
  {
   "cell_type": "markdown",
   "id": "0b9e2adb-1200-442d-b162-5be7601fecac",
   "metadata": {},
   "source": [
    "使用labelImg进行数据标注\n",
    "```python\n",
    "python3 labelImg.py\n",
    "```\n",
    "\n",
    "配置`dataset.yml`并训练模型"
   ]
  },
  {
   "cell_type": "code",
   "execution_count": null,
   "id": "5476de7a-11c6-40c5-a5a6-48f4d1dfd083",
   "metadata": {
    "scrolled": true,
    "tags": []
   },
   "outputs": [],
   "source": [
    "!cd yolov5 && python train.py --img 640 --batch 10 --epochs 500 --data dataset.yml --weights yolov5s.pt"
   ]
  },
  {
   "cell_type": "markdown",
   "id": "e4076a89-b218-4a8b-8686-471ccf009aa7",
   "metadata": {},
   "source": [
    "## 6. 使用定制模型"
   ]
  },
  {
   "cell_type": "code",
   "execution_count": null,
   "id": "e5f436ae-9e89-4c41-8d31-6cb12ed443a6",
   "metadata": {},
   "outputs": [],
   "source": [
    "model = torch.hub.load('ultralytics/yolov5', 'custom', path='yolov5/runs/train/exp3/weights/best.pt', force_reload=True)"
   ]
  },
  {
   "cell_type": "code",
   "execution_count": null,
   "id": "37d91b6a-482f-415a-9968-e2b003eb8f30",
   "metadata": {},
   "outputs": [],
   "source": [
    "cap = cv2.VideoCapture(2)\n",
    "\n",
    "while cap.isOpened():\n",
    "    ret, frame = cap.read()\n",
    "    \n",
    "    results = model(frame)\n",
    "    \n",
    "    cv2.imshow('YOLO', np.squeeze(results.render()))\n",
    "    \n",
    "    if cv2.waitKey(10) & 0xFF == ord('q'):\n",
    "        break\n",
    "cap.release()\n",
    "cv2.destroyAllWindows()"
   ]
  }
 ],
 "metadata": {
  "kernelspec": {
   "display_name": "Python 3 (ipykernel)",
   "language": "python",
   "name": "python3"
  },
  "language_info": {
   "codemirror_mode": {
    "name": "ipython",
    "version": 3
   },
   "file_extension": ".py",
   "mimetype": "text/x-python",
   "name": "python",
   "nbconvert_exporter": "python",
   "pygments_lexer": "ipython3",
   "version": "3.8.10"
  }
 },
 "nbformat": 4,
 "nbformat_minor": 5
}
